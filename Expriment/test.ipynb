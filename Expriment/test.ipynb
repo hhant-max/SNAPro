{
 "cells": [
  {
   "cell_type": "code",
   "execution_count": 14,
   "metadata": {},
   "outputs": [],
   "source": [
    "import numpy as np\n",
    "import networkx as nx\n",
    "from networkx.generators.community import LFR_benchmark_graph, planted_partition_graph,random_partition_graph\n",
    "from networkx.algorithms import community\n",
    "import os\n",
    "import math\n",
    "\n",
    "import functools"
   ]
  },
  {
   "cell_type": "code",
   "execution_count": 9,
   "metadata": {},
   "outputs": [
    {
     "data": {
      "text/plain": [
       "[5,\n",
       " 8,\n",
       " 20,\n",
       " 1,\n",
       " 7,\n",
       " 37,\n",
       " 2,\n",
       " 35,\n",
       " 13,\n",
       " 39,\n",
       " 9,\n",
       " 45,\n",
       " 47,\n",
       " 38,\n",
       " 26,\n",
       " 10,\n",
       " 33,\n",
       " 48,\n",
       " 278,\n",
       " 16,\n",
       " 18,\n",
       " 492,\n",
       " 3,\n",
       " 467,\n",
       " 223,\n",
       " 101,\n",
       " 19,\n",
       " 80,\n",
       " 44,\n",
       " 295,\n",
       " 210,\n",
       " 285,\n",
       " 230,\n",
       " 108,\n",
       " 42,\n",
       " 376,\n",
       " 117,\n",
       " 221,\n",
       " 476,\n",
       " 172,\n",
       " 425,\n",
       " 328,\n",
       " 448,\n",
       " 371,\n",
       " 432,\n",
       " 495,\n",
       " 412,\n",
       " 288,\n",
       " 14,\n",
       " 6,\n",
       " 12,\n",
       " 24,\n",
       " 30,\n",
       " 23,\n",
       " 28,\n",
       " 29,\n",
       " 4,\n",
       " 34,\n",
       " 22,\n",
       " 41,\n",
       " 17,\n",
       " 21,\n",
       " 0,\n",
       " 40,\n",
       " 27,\n",
       " 15,\n",
       " 25,\n",
       " 36,\n",
       " 31,\n",
       " 11,\n",
       " 32,\n",
       " 43,\n",
       " 46,\n",
       " 49,\n",
       " 415,\n",
       " 296,\n",
       " 493,\n",
       " 273,\n",
       " 212,\n",
       " 181,\n",
       " 263,\n",
       " 407,\n",
       " 445,\n",
       " 140,\n",
       " 271,\n",
       " 185,\n",
       " 488,\n",
       " 229,\n",
       " 475,\n",
       " 431,\n",
       " 387,\n",
       " 262,\n",
       " 226,\n",
       " 200,\n",
       " 473,\n",
       " 162,\n",
       " 442,\n",
       " 259,\n",
       " 353,\n",
       " 440,\n",
       " 420,\n",
       " 292,\n",
       " 456,\n",
       " 234,\n",
       " 480,\n",
       " 404,\n",
       " 419,\n",
       " 267,\n",
       " 449,\n",
       " 110,\n",
       " 479,\n",
       " 287,\n",
       " 217,\n",
       " 182,\n",
       " 459,\n",
       " 208,\n",
       " 275,\n",
       " 102,\n",
       " 487,\n",
       " 149,\n",
       " 146,\n",
       " 457,\n",
       " 468,\n",
       " 231,\n",
       " 126,\n",
       " 236,\n",
       " 125,\n",
       " 336,\n",
       " 279,\n",
       " 298,\n",
       " 169,\n",
       " 111,\n",
       " 107,\n",
       " 497,\n",
       " 254,\n",
       " 302,\n",
       " 167,\n",
       " 148,\n",
       " 160,\n",
       " 284,\n",
       " 257,\n",
       " 258,\n",
       " 256,\n",
       " 242,\n",
       " 274,\n",
       " 86,\n",
       " 499,\n",
       " 471,\n",
       " 414,\n",
       " 131,\n",
       " 438,\n",
       " 269,\n",
       " 206,\n",
       " 264,\n",
       " 213,\n",
       " 439,\n",
       " 243,\n",
       " 335,\n",
       " 112,\n",
       " 470,\n",
       " 127,\n",
       " 139,\n",
       " 341,\n",
       " 489,\n",
       " 400,\n",
       " 225,\n",
       " 294,\n",
       " 461,\n",
       " 481,\n",
       " 250,\n",
       " 358,\n",
       " 385,\n",
       " 268,\n",
       " 441,\n",
       " 201,\n",
       " 109,\n",
       " 240,\n",
       " 485,\n",
       " 458,\n",
       " 482,\n",
       " 216,\n",
       " 355,\n",
       " 486,\n",
       " 477,\n",
       " 444,\n",
       " 299,\n",
       " 189,\n",
       " 142,\n",
       " 409,\n",
       " 351,\n",
       " 394,\n",
       " 270,\n",
       " 484,\n",
       " 164,\n",
       " 454,\n",
       " 188,\n",
       " 399,\n",
       " 115,\n",
       " 84,\n",
       " 98,\n",
       " 144,\n",
       " 397,\n",
       " 411,\n",
       " 369,\n",
       " 281,\n",
       " 421,\n",
       " 239,\n",
       " 289,\n",
       " 260,\n",
       " 405,\n",
       " 406,\n",
       " 436,\n",
       " 152,\n",
       " 233,\n",
       " 388,\n",
       " 277,\n",
       " 261,\n",
       " 203,\n",
       " 318,\n",
       " 235,\n",
       " 85,\n",
       " 66,\n",
       " 248,\n",
       " 241,\n",
       " 291,\n",
       " 396,\n",
       " 498,\n",
       " 272,\n",
       " 265,\n",
       " 408,\n",
       " 465,\n",
       " 446,\n",
       " 321,\n",
       " 426,\n",
       " 362,\n",
       " 462,\n",
       " 428,\n",
       " 455,\n",
       " 391,\n",
       " 136,\n",
       " 401,\n",
       " 280,\n",
       " 314,\n",
       " 354,\n",
       " 50,\n",
       " 207,\n",
       " 177,\n",
       " 443,\n",
       " 249]"
      ]
     },
     "execution_count": 9,
     "metadata": {},
     "output_type": "execute_result"
    }
   ],
   "source": [
    "a = '5 8 20 1 7 37 2 35 13 39 9 45 47 38 26 10 33 48 278 16 18 492 3 467 223 101 19 80 44 295 210 285 230 108 42 376 117 221 476 172 425 328 448 371 432 495 412 288 14 6 12 24 30 23 28 29 4 34 22 41 17 21 0 40 27 15 25 36 31 11 32 43 46 49 415 296 493 273 212 181 263 407 445 140 271 185 488 229 475 431 387 262 226 200 473 162 442 259 353 440 420 292 456 234 480 404 419 267 449 110 479 287 217 182 459 208 275 102 487 149 146 457 468 231 126 236 125 336 279 298 169 111 107 497 254 302 167 148 160 284 257 258 256 242 274 86 499 471 414 131 438 269 206 264 213 439 243 335 112 470 127 139 341 489 400 225 294 461 481 250 358 385 268 441 201 109 240 485 458 482 216 355 486 477 444 299 189 142 409 351 394 270 484 164 454 188 399 115 84 98 144 397 411 369 281 421 239 289 260 405 406 436 152 233 388 277 261 203 318 235 85 66 248 241 291 396 498 272 265 408 465 446 321 426 362 462 428 455 391 136 401 280 314 354 50 207 177 443 249 380 '\n",
    "b = a.strip().split(' ')[:-1]\n",
    "\n",
    "list(map(lambda x: int(x), b))\n"
   ]
  },
  {
   "cell_type": "code",
   "execution_count": 3,
   "metadata": {},
   "outputs": [
    {
     "data": {
      "text/plain": [
       "['2']"
      ]
     },
     "execution_count": 3,
     "metadata": {},
     "output_type": "execute_result"
    }
   ],
   "source": [
    "b[:1]"
   ]
  },
  {
   "cell_type": "code",
   "execution_count": 2,
   "metadata": {},
   "outputs": [
    {
     "name": "stdout",
     "output_type": "stream",
     "text": [
      "Generated the planted partition graph with size: 500\n"
     ]
    }
   ],
   "source": [
    "# number of nodes n1\n",
    "n1 = 50\n",
    "k = 10\n",
    "p = 0.5\n",
    "mu = 0.5\n",
    "def get_q(mu, p, k):\n",
    "    return float((mu * p) / ((1 - mu) * (k - 1)))\n",
    "\n",
    "\n",
    "# generate undirected unweighted graph\n",
    "#G_P = planted_partition_graph(l=k, k=n1, p_in=p, p_out=get_q(mu, p, k), seed=0)\n",
    "G_P = random_partition_graph(sizes = [50 for _ in range(10)],p_in=p, p_out=get_q(mu, p, k), seed=0)\n",
    "print(f\"Generated the planted partition graph with size: {len(G_P)}\")\n"
   ]
  },
  {
   "cell_type": "code",
   "execution_count": null,
   "metadata": {},
   "outputs": [],
   "source": [
    "G_L = LFR_benchmark_graph()"
   ]
  },
  {
   "cell_type": "code",
   "execution_count": 4,
   "metadata": {},
   "outputs": [
    {
     "data": {
      "text/plain": [
       "12400"
      ]
     },
     "execution_count": 4,
     "metadata": {},
     "output_type": "execute_result"
    }
   ],
   "source": [
    "len(G_P.edges())"
   ]
  },
  {
   "cell_type": "code",
   "execution_count": 5,
   "metadata": {},
   "outputs": [],
   "source": [
    "# test the first partion one\n",
    "one_commu = G_P.graph['partition'][0]\n",
    "\n",
    "# ouput the graph\n",
    "with open('testout.txt','wb') as f:\n",
    "    nx.write_edgelist(G_P,f,data=False)\n",
    "\n",
    "# output the \n",
    "with open(\"testComu.txt\",'w') as f:\n",
    "    for comm in G_P.graph['partition']:\n",
    "        f.writelines(' '.join(list(map(lambda x: str(x),comm))))\n",
    "        f.write(\"\\n\")\n",
    "\n",
    "# test \n",
    "# read from txt\n",
    "detected_comm = list(open(\n",
    "    \"/home/sfy/Documents/VScodeProject/SNAPro/project/localmotif/localmotifcluster/outputComu.txt\",\n",
    "    \"r\",\n",
    ").read().strip().split(' '))\n"
   ]
  },
  {
   "cell_type": "code",
   "execution_count": 18,
   "metadata": {},
   "outputs": [],
   "source": [
    "\n",
    "# compare with F1score\n",
    "def cal_Fscore(detected_comm, ground_truth_comm, beta=1):\n",
    "    \"\"\"\n",
    "    input : detected_comm: list from read file wiht all str\n",
    "            ground_truth_comm: list with community of int\n",
    "\n",
    "    Given a set of algorithmic communities C and the ground truth communities S, F score measures the relevance\n",
    "    between the algorithmic communities and the ground truth communities.\n",
    "    F_beta = (1+beta^2) / beta^2 * (precision(S)*recall(S)) / (precision(S)+recall(S))\n",
    "    \"\"\"\n",
    "    # in case the last one is\n",
    "    if detected_comm: detected_comm = list(map(lambda x: int(x),detected_comm))\n",
    "    ground_truth_comm = list(ground_truth_comm)\n",
    "    print(ground_truth_comm)\n",
    "    correctly_classified = list(set(detected_comm).intersection(set(ground_truth_comm)))\n",
    "    precision = len(correctly_classified) / float(len((detected_comm)))\n",
    "    recall = len(correctly_classified) / float(len(ground_truth_comm))\n",
    "    if precision != 0 and recall != 0:\n",
    "        Fscore = (\n",
    "            (1 + math.sqrt(beta))\n",
    "            / float(math.sqrt(beta))\n",
    "            * precision\n",
    "            * recall\n",
    "            / float(precision + recall)\n",
    "        )\n",
    "    else:\n",
    "        Fscore = 0\n",
    "\n",
    "    return Fscore\n"
   ]
  },
  {
   "cell_type": "code",
   "execution_count": 5,
   "metadata": {},
   "outputs": [],
   "source": [
    "# read communities from file\n",
    "detected_communities = list(open(\n",
    "    \"/home/sfy/Documents/VScodeProject/SNAPro/project/localmotif/localmotifcluster/outputComu.txt\",\n",
    "    \"r\",\n",
    ").read().strip().split(';'))\n",
    "\n"
   ]
  },
  {
   "cell_type": "code",
   "execution_count": 19,
   "metadata": {},
   "outputs": [
    {
     "ename": "ValueError",
     "evalue": "invalid literal for int() with base 10: ' '",
     "output_type": "error",
     "traceback": [
      "\u001b[0;31m---------------------------------------------------------------------------\u001b[0m",
      "\u001b[0;31mValueError\u001b[0m                                Traceback (most recent call last)",
      "Cell \u001b[0;32mIn [19], line 5\u001b[0m\n\u001b[1;32m      3\u001b[0m comms_seed \u001b[39m=\u001b[39m communities\u001b[39m.\u001b[39msplit(\u001b[39m'\u001b[39m\u001b[39m,\u001b[39m\u001b[39m'\u001b[39m)\n\u001b[1;32m      4\u001b[0m \u001b[39m# print(comms_seed)\u001b[39;00m\n\u001b[0;32m----> 5\u001b[0m scores \u001b[39m=\u001b[39m \u001b[39mlist\u001b[39;49m(\u001b[39mmap\u001b[39;49m(functools\u001b[39m.\u001b[39;49mpartial(cal_Fscore,ground_truth_comm\u001b[39m=\u001b[39;49mG_P\u001b[39m.\u001b[39;49mgraph[\u001b[39m'\u001b[39;49m\u001b[39mpartition\u001b[39;49m\u001b[39m'\u001b[39;49m][index],beta\u001b[39m=\u001b[39;49m\u001b[39m1\u001b[39;49m),comms_seed))\n\u001b[1;32m      6\u001b[0m scoress\u001b[39m.\u001b[39mappend(scores)\n",
      "Cell \u001b[0;32mIn [18], line 12\u001b[0m, in \u001b[0;36mcal_Fscore\u001b[0;34m(detected_comm, ground_truth_comm, beta)\u001b[0m\n\u001b[1;32m      3\u001b[0m \u001b[39m\"\"\"\u001b[39;00m\n\u001b[1;32m      4\u001b[0m \u001b[39minput : detected_comm: list from read file wiht all str\u001b[39;00m\n\u001b[1;32m      5\u001b[0m \u001b[39m        ground_truth_comm: list with community of int\u001b[39;00m\n\u001b[0;32m   (...)\u001b[0m\n\u001b[1;32m      9\u001b[0m \u001b[39mF_beta = (1+beta^2) / beta^2 * (precision(S)*recall(S)) / (precision(S)+recall(S))\u001b[39;00m\n\u001b[1;32m     10\u001b[0m \u001b[39m\"\"\"\u001b[39;00m\n\u001b[1;32m     11\u001b[0m \u001b[39m# in case the last one is\u001b[39;00m\n\u001b[0;32m---> 12\u001b[0m \u001b[39mif\u001b[39;00m detected_comm: detected_comm \u001b[39m=\u001b[39m \u001b[39mlist\u001b[39;49m(\u001b[39mmap\u001b[39;49m(\u001b[39mlambda\u001b[39;49;00m x: \u001b[39mint\u001b[39;49m(x),detected_comm))\n\u001b[1;32m     13\u001b[0m ground_truth_comm \u001b[39m=\u001b[39m \u001b[39mlist\u001b[39m(ground_truth_comm)\n\u001b[1;32m     14\u001b[0m \u001b[39mprint\u001b[39m(ground_truth_comm)\n",
      "Cell \u001b[0;32mIn [18], line 12\u001b[0m, in \u001b[0;36mcal_Fscore.<locals>.<lambda>\u001b[0;34m(x)\u001b[0m\n\u001b[1;32m      3\u001b[0m \u001b[39m\"\"\"\u001b[39;00m\n\u001b[1;32m      4\u001b[0m \u001b[39minput : detected_comm: list from read file wiht all str\u001b[39;00m\n\u001b[1;32m      5\u001b[0m \u001b[39m        ground_truth_comm: list with community of int\u001b[39;00m\n\u001b[0;32m   (...)\u001b[0m\n\u001b[1;32m      9\u001b[0m \u001b[39mF_beta = (1+beta^2) / beta^2 * (precision(S)*recall(S)) / (precision(S)+recall(S))\u001b[39;00m\n\u001b[1;32m     10\u001b[0m \u001b[39m\"\"\"\u001b[39;00m\n\u001b[1;32m     11\u001b[0m \u001b[39m# in case the last one is\u001b[39;00m\n\u001b[0;32m---> 12\u001b[0m \u001b[39mif\u001b[39;00m detected_comm: detected_comm \u001b[39m=\u001b[39m \u001b[39mlist\u001b[39m(\u001b[39mmap\u001b[39m(\u001b[39mlambda\u001b[39;00m x: \u001b[39mint\u001b[39;49m(x),detected_comm))\n\u001b[1;32m     13\u001b[0m ground_truth_comm \u001b[39m=\u001b[39m \u001b[39mlist\u001b[39m(ground_truth_comm)\n\u001b[1;32m     14\u001b[0m \u001b[39mprint\u001b[39m(ground_truth_comm)\n",
      "\u001b[0;31mValueError\u001b[0m: invalid literal for int() with base 10: ' '"
     ]
    }
   ],
   "source": [
    "scoress = []\n",
    "for index, communities in enumerate(detected_communities):\n",
    "    comms_seed = communities.split(',')\n",
    "    # print(comms_seed)\n",
    "    scores = list(map(functools.partial(cal_Fscore,ground_truth_comm=G_P.graph['partition'][index],beta=1),comms_seed))\n",
    "    scoress.append(scores)\n"
   ]
  },
  {
   "cell_type": "code",
   "execution_count": 10,
   "metadata": {},
   "outputs": [
    {
     "ename": "NameError",
     "evalue": "name 'cal_Fscore' is not defined",
     "output_type": "error",
     "traceback": [
      "\u001b[0;31m---------------------------------------------------------------------------\u001b[0m",
      "\u001b[0;31mNameError\u001b[0m                                 Traceback (most recent call last)",
      "Cell \u001b[0;32mIn [10], line 1\u001b[0m\n\u001b[0;32m----> 1\u001b[0m scores \u001b[39m=\u001b[39m \u001b[39mlist\u001b[39m(\u001b[39mmap\u001b[39m(cal_Fscore(),detected_communities[:\u001b[39mlen\u001b[39m(detected_communities)\u001b[39m-\u001b[39m\u001b[39m1\u001b[39m]))\n",
      "\u001b[0;31mNameError\u001b[0m: name 'cal_Fscore' is not defined"
     ]
    }
   ],
   "source": [
    "def get_score(ground_truth_comms):\n",
    "    #\n",
    "    scores= map(cal_Fscore,detected_communities[:len(detected_communities)-1],G_P.graph['partition'])\n",
    "\n",
    "scores = list(map(cal_Fscore(detected_comm, ground_truth_comm, beta=1),detected_communities[:len(detected_communities)-1]))\n",
    "\n",
    "get_score(ground_truth_comms = G_P.graph['partition'])"
   ]
  },
  {
   "cell_type": "code",
   "execution_count": 56,
   "metadata": {},
   "outputs": [
    {
     "name": "stdout",
     "output_type": "stream",
     "text": [
      "[0, 1, 2, 3, 4, 5, 6, 7, 8, 9, 10, 11, 12, 13, 14, 15, 16, 17, 18, 19, 20, 21, 22, 23, 24, 25, 26, 27, 28, 29, 30, 31, 32, 33, 34, 35, 36, 37, 38, 39, 40, 41, 42, 43, 44, 45, 46, 47, 48, 49]\n"
     ]
    },
    {
     "data": {
      "text/plain": [
       "0.3322259136212624"
      ]
     },
     "execution_count": 56,
     "metadata": {},
     "output_type": "execute_result"
    }
   ],
   "source": [
    "cal_Fscore(detected_comm= detected_comm,ground_truth_comm=one_commu)"
   ]
  },
  {
   "cell_type": "code",
   "execution_count": null,
   "metadata": {},
   "outputs": [],
   "source": []
  }
 ],
 "metadata": {
  "kernelspec": {
   "display_name": "Python 3.9.13 ('sna')",
   "language": "python",
   "name": "python3"
  },
  "language_info": {
   "codemirror_mode": {
    "name": "ipython",
    "version": 3
   },
   "file_extension": ".py",
   "mimetype": "text/x-python",
   "name": "python",
   "nbconvert_exporter": "python",
   "pygments_lexer": "ipython3",
   "version": "3.9.13"
  },
  "orig_nbformat": 4,
  "vscode": {
   "interpreter": {
    "hash": "5aaa2961f58c2f60b89a906e3d99c710d434fb6166502cb41518d67b0ee51512"
   }
  }
 },
 "nbformat": 4,
 "nbformat_minor": 2
}
