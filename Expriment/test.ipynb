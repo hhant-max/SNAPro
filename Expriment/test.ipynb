{
 "cells": [
  {
   "cell_type": "code",
   "execution_count": 1,
   "metadata": {},
   "outputs": [],
   "source": [
    "import numpy as np\n",
    "import networkx as nx\n",
    "from networkx.generators.community import LFR_benchmark_graph, planted_partition_graph,random_partition_graph\n",
    "from networkx.algorithms import community\n",
    "import os\n",
    "import math\n",
    "\n",
    "import functools\n",
    "\n",
    "import seaborn as sns\n",
    "import pandas as pd\n",
    "from matplotlib import pyplot as plt\n",
    "import numpy as np\n",
    "import re\n",
    "from itertools import islice"
   ]
  },
  {
   "cell_type": "code",
   "execution_count": 6,
   "metadata": {},
   "outputs": [],
   "source": [
    "dic = {}\n",
    "with open('/home/sfy/Documents/testSNA/SNAPro/dataset/email-Eu-core-department-labels.txt') as file:\n",
    "    for line in file.readlines():\n",
    "        line = line.strip().split(' ')\n",
    "        node = line[0]\n",
    "        comm = line[1]\n",
    "        if dic.get(comm)==None:\n",
    "            dic.setdefault(comm,'')\n",
    "            dic[comm] = node\n",
    "        else:\n",
    "            dic[comm] = dic[comm] + '\\t'+ node"
   ]
  },
  {
   "cell_type": "code",
   "execution_count": 7,
   "metadata": {},
   "outputs": [
    {
     "data": {
      "text/plain": [
       "'0\\t1\\t17\\t18\\t73\\t74\\t85\\t120\\t177\\t215\\t218\\t219\\t220\\t221\\t222\\t223\\t224\\t225\\t226\\t227\\t228\\t248\\t297\\t307\\t308\\t309\\t310\\t311\\t312\\t313\\t314\\t315\\t316\\t317\\t341\\t414\\t415\\t449\\t459\\t468\\t479\\t516\\t517\\t603\\t605\\t629\\t645\\t650\\t675\\t696\\t697\\t731\\t734\\t743\\t764\\t775\\t797\\t798\\t846\\t852\\t872\\t904\\t905\\t916\\t1002'"
      ]
     },
     "execution_count": 7,
     "metadata": {},
     "output_type": "execute_result"
    }
   ],
   "source": [
    "dic['1']"
   ]
  },
  {
   "cell_type": "code",
   "execution_count": 76,
   "metadata": {},
   "outputs": [],
   "source": [
    "with open('testout.txt','w') as file:\n",
    "        for comms in dic.values():\n",
    "            file.write(comms+'\\n')\n",
    "    "
   ]
  },
  {
   "cell_type": "code",
   "execution_count": null,
   "metadata": {},
   "outputs": [],
   "source": [
    "seed_set = [2, 34,56]"
   ]
  }
 ],
 "metadata": {
  "kernelspec": {
   "display_name": "Python 3.9.13 ('sna')",
   "language": "python",
   "name": "python3"
  },
  "language_info": {
   "codemirror_mode": {
    "name": "ipython",
    "version": 3
   },
   "file_extension": ".py",
   "mimetype": "text/x-python",
   "name": "python",
   "nbconvert_exporter": "python",
   "pygments_lexer": "ipython3",
   "version": "3.9.13"
  },
  "orig_nbformat": 4,
  "vscode": {
   "interpreter": {
    "hash": "5aaa2961f58c2f60b89a906e3d99c710d434fb6166502cb41518d67b0ee51512"
   }
  }
 },
 "nbformat": 4,
 "nbformat_minor": 2
}
