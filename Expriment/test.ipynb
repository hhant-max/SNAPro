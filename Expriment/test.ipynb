{
 "cells": [
  {
   "cell_type": "code",
   "execution_count": 1,
   "metadata": {},
   "outputs": [],
   "source": [
    "import numpy as np\n",
    "import networkx as nx\n",
    "from networkx.generators.community import LFR_benchmark_graph, planted_partition_graph,random_partition_graph\n",
    "from networkx.algorithms import community\n",
    "import os\n",
    "import math\n",
    "\n",
    "import functools\n",
    "\n",
    "import seaborn as sns\n",
    "import pandas as pd\n",
    "from matplotlib import pyplot as plt\n",
    "import numpy as np\n",
    "import re\n",
    "from itertools import islice"
   ]
  },
  {
   "cell_type": "code",
   "execution_count": 72,
   "metadata": {},
   "outputs": [],
   "source": [
    "dic = {}\n",
    "with open('/home/sfy/Documents/testSNA/SNAPro/dataset/email-Eu-core-department-labels.txt') as file:\n",
    "    for line in file.readlines():\n",
    "        line = line.strip().split(' ')\n",
    "        node = line[0]\n",
    "        comm = line[1]\n",
    "        if dic.get(comm)==None:\n",
    "            dic.setdefault(comm,'')\n",
    "            dic[comm] = node\n",
    "        else:\n",
    "            dic[comm] = dic[comm] + ' '+ node"
   ]
  },
  {
   "cell_type": "code",
   "execution_count": 75,
   "metadata": {},
   "outputs": [
    {
     "data": {
      "text/plain": [
       "'0 1 17 18 73 74 85 120 177 215 218 219 220 221 222 223 224 225 226 227 228 248 297 307 308 309 310 311 312 313 314 315 316 317 341 414 415 449 459 468 479 516 517 603 605 629 645 650 675 696 697 731 734 743 764 775 797 798 846 852 872 904 905 916 1002'"
      ]
     },
     "execution_count": 75,
     "metadata": {},
     "output_type": "execute_result"
    }
   ],
   "source": [
    "dic['1']"
   ]
  },
  {
   "cell_type": "code",
   "execution_count": 76,
   "metadata": {},
   "outputs": [],
   "source": [
    "with open('testout.txt','w') as file:\n",
    "        for comms in dic.values():\n",
    "            file.write(comms+'\\n')\n",
    "    "
   ]
  },
  {
   "cell_type": "code",
   "execution_count": null,
   "metadata": {},
   "outputs": [],
   "source": [
    "seed_set = [2, 34,56]"
   ]
  }
 ],
 "metadata": {
  "kernelspec": {
   "display_name": "Python 3.9.13 ('sna')",
   "language": "python",
   "name": "python3"
  },
  "language_info": {
   "codemirror_mode": {
    "name": "ipython",
    "version": 3
   },
   "file_extension": ".py",
   "mimetype": "text/x-python",
   "name": "python",
   "nbconvert_exporter": "python",
   "pygments_lexer": "ipython3",
   "version": "3.9.13"
  },
  "orig_nbformat": 4,
  "vscode": {
   "interpreter": {
    "hash": "5aaa2961f58c2f60b89a906e3d99c710d434fb6166502cb41518d67b0ee51512"
   }
  }
 },
 "nbformat": 4,
 "nbformat_minor": 2
}
