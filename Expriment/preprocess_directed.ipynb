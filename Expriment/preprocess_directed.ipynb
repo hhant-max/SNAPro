{
 "cells": [
  {
   "cell_type": "code",
   "execution_count": null,
   "metadata": {},
   "outputs": [],
   "source": [
    "import numpy as np\n",
    "import networkx as nx\n",
    "from networkx.generators.community import LFR_benchmark_graph, planted_partition_graph,random_partition_graph\n",
    "from networkx.algorithms import community\n",
    "import os\n",
    "import math\n",
    "\n",
    "import functools\n",
    "\n",
    "import seaborn as sns\n",
    "import pandas as pd\n",
    "from matplotlib import pyplot as plt\n",
    "import numpy as np\n",
    "import re\n",
    "from itertools import islice"
   ]
  },
  {
   "cell_type": "code",
   "execution_count": null,
   "metadata": {},
   "outputs": [],
   "source": [
    "lines = []\n",
    "with open('/home/sfy/Documents/VScodeProject/SNAPro/testWIKI.txt') as file:\n",
    "    for line in file.readlines():\n",
    "        lines.append(line)\n"
   ]
  },
  {
   "cell_type": "code",
   "execution_count": null,
   "metadata": {},
   "outputs": [],
   "source": [
    "with open('testout.txt','w') as file2:\n",
    "    for line in lines:\n",
    "        new_line = re.sub(r'Category:.*; ','',line)\n",
    "        file2.write(new_line)\n"
   ]
  }
 ],
 "metadata": {
  "kernelspec": {
   "display_name": "Python 3.9.13 ('sna')",
   "language": "python",
   "name": "python3"
  },
  "language_info": {
   "name": "python",
   "version": "3.9.13"
  },
  "orig_nbformat": 4,
  "vscode": {
   "interpreter": {
    "hash": "5aaa2961f58c2f60b89a906e3d99c710d434fb6166502cb41518d67b0ee51512"
   }
  }
 },
 "nbformat": 4,
 "nbformat_minor": 2
}
