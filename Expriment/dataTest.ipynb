{
 "cells": [
  {
   "cell_type": "code",
   "execution_count": 27,
   "metadata": {},
   "outputs": [],
   "source": [
    "import numpy as np\n",
    "import networkx as nx\n",
    "from networkx.generators.community import LFR_benchmark_graph, planted_partition_graph,random_partition_graph\n",
    "from networkx.algorithms import community\n",
    "import os\n",
    "import math"
   ]
  },
  {
   "cell_type": "code",
   "execution_count": 4,
   "metadata": {},
   "outputs": [
    {
     "name": "stdout",
     "output_type": "stream",
     "text": [
      "Generated the planted partition graph with size: 500\n"
     ]
    }
   ],
   "source": [
    "# number of nodes n1\n",
    "n1 = 50\n",
    "k = 10\n",
    "p = 0.5\n",
    "mu = 0.5\n",
    "def get_q(mu, p, k):\n",
    "    return float((mu * p) / ((1 - mu) * (k - 1)))\n",
    "\n",
    "\n",
    "# generate undirected unweighted graph\n",
    "#G_P = planted_partition_graph(l=k, k=n1, p_in=p, p_out=get_q(mu, p, k), seed=0)\n",
    "G_P = random_partition_graph(sizes = [50 for _ in range(10)],p_in=p, p_out=get_q(mu, p, k), seed=0)\n",
    "print(f\"Generated the planted partition graph with size: {len(G_P)}\")\n"
   ]
  },
  {
   "cell_type": "code",
   "execution_count": 5,
   "metadata": {},
   "outputs": [],
   "source": [
    "# test the first partion one\n",
    "one_commu = G_P.graph['partition'][0]\n",
    "\n",
    "# ouput the graph\n",
    "with open('testout.txt','wb') as f:\n",
    "    nx.write_edgelist(G_P,f,data=False)\n",
    "\n",
    "# output the \n",
    "with open(\"testComu.txt\",'w') as f:\n",
    "    for comm in G_P.graph['partition']:\n",
    "        f.writelines(' '.join(list(map(lambda x: str(x),comm))))\n",
    "        f.write(\"\\n\")\n"
   ]
  },
  {
   "cell_type": "code",
   "execution_count": 49,
   "metadata": {},
   "outputs": [],
   "source": [
    "# read from txt\n",
    "detected_comm = list(open(\n",
    "    \"/home/sfy/Documents/VScodeProject/SNAPro/project/localmotif/localmotifcluster/outputComu.txt\",\n",
    "    \"r\",\n",
    ").read().strip().split(' '))\n",
    "\n",
    "# compare with F1score\n",
    "def cal_Fscore(detected_comm, ground_truth_comm, beta=1):\n",
    "    \"\"\"\n",
    "    input : detected_comm: list from read file wiht all str\n",
    "            ground_truth_comm: list with community of int\n",
    "\n",
    "    Given a set of algorithmic communities C and the ground truth communities S, F score measures the relevance\n",
    "    between the algorithmic communities and the ground truth communities.\n",
    "    F_beta = (1+beta^2) / beta^2 * (precision(S)*recall(S)) / (precision(S)+recall(S))\n",
    "    \"\"\"\n",
    "    detected_comm = list(map(lambda x: int(x),detected_comm))\n",
    "    ground_truth_comm = list(ground_truth_comm)\n",
    "    print(ground_truth_comm)\n",
    "    correctly_classified = list(set(detected_comm).intersection(set(ground_truth_comm)))\n",
    "    precision = len(correctly_classified) / float(len((detected_comm)))\n",
    "    recall = len(correctly_classified) / float(len(ground_truth_comm))\n",
    "    if precision != 0 and recall != 0:\n",
    "        Fscore = (\n",
    "            (1 + math.sqrt(beta))\n",
    "            / float(math.sqrt(beta))\n",
    "            * precision\n",
    "            * recall\n",
    "            / float(precision + recall)\n",
    "        )\n",
    "    else:\n",
    "        Fscore = 0\n",
    "\n",
    "    return Fscore\n"
   ]
  },
  {
   "cell_type": "code",
   "execution_count": 55,
   "metadata": {},
   "outputs": [],
   "source": [
    "\n",
    "# input the seedset\n",
    "\n"
   ]
  },
  {
   "cell_type": "code",
   "execution_count": 56,
   "metadata": {},
   "outputs": [
    {
     "name": "stdout",
     "output_type": "stream",
     "text": [
      "[0, 1, 2, 3, 4, 5, 6, 7, 8, 9, 10, 11, 12, 13, 14, 15, 16, 17, 18, 19, 20, 21, 22, 23, 24, 25, 26, 27, 28, 29, 30, 31, 32, 33, 34, 35, 36, 37, 38, 39, 40, 41, 42, 43, 44, 45, 46, 47, 48, 49]\n"
     ]
    },
    {
     "data": {
      "text/plain": [
       "0.3322259136212624"
      ]
     },
     "execution_count": 56,
     "metadata": {},
     "output_type": "execute_result"
    }
   ],
   "source": [
    "cal_Fscore(detected_comm= detected_comm,ground_truth_comm=one_commu)"
   ]
  },
  {
   "cell_type": "code",
   "execution_count": null,
   "metadata": {},
   "outputs": [],
   "source": []
  }
 ],
 "metadata": {
  "kernelspec": {
   "display_name": "Python 3.9.13 ('sna')",
   "language": "python",
   "name": "python3"
  },
  "language_info": {
   "codemirror_mode": {
    "name": "ipython",
    "version": 3
   },
   "file_extension": ".py",
   "mimetype": "text/x-python",
   "name": "python",
   "nbconvert_exporter": "python",
   "pygments_lexer": "ipython3",
   "version": "3.9.13"
  },
  "orig_nbformat": 4,
  "vscode": {
   "interpreter": {
    "hash": "5aaa2961f58c2f60b89a906e3d99c710d434fb6166502cb41518d67b0ee51512"
   }
  }
 },
 "nbformat": 4,
 "nbformat_minor": 2
}
